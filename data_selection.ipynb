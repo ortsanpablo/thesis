{
 "cells": [
  {
   "cell_type": "code",
   "execution_count": 84,
   "metadata": {},
   "outputs": [],
   "source": [
    "import numpy as np\n",
    "import pandas as pd\n",
    "import matplotlib.pyplot as plt\n",
    "from collections import Counter\n",
    "from sklearn.model_selection import GroupKFold\n"
   ]
  },
  {
   "cell_type": "code",
   "execution_count": 3,
   "metadata": {},
   "outputs": [],
   "source": [
    "def missing_values_table(df):\n",
    "    mis_val = df.isnull().sum()\n",
    "    mis_val_percent = 100 * df.isnull().sum() / len(df)\n",
    "    mis_val_table = pd.concat([mis_val, mis_val_percent], axis=1)\n",
    "    mis_val_table_ren_columns = mis_val_table.rename(\n",
    "    columns = {0 : 'Missing Values', 1 : '% of Total Values'})\n",
    "    mis_val_table_ren_columns = mis_val_table_ren_columns[\n",
    "        mis_val_table_ren_columns.iloc[:,1] != 0].sort_values(\n",
    "    '% of Total Values', ascending=False).round(1)\n",
    "    print (\"Your selected dataframe has \" + str(df.shape[1]) + \" columns.\\n\"      \n",
    "        \"There are \" + str(mis_val_table_ren_columns.shape[0]) +\n",
    "            \" columns that have missing values.\")\n",
    "    return mis_val_table_ren_columns"
   ]
  },
  {
   "cell_type": "markdown",
   "metadata": {},
   "source": [
    "load lab data and preprocessed text with granular labels\n",
    "select alle positiven, davon die, die granular label 0 bis step 4. Davon alle die, die bis granular label 16 (12h später) 1 haben. Diese Ids sind die positiven die interessant sind. Mit allen negativen zusammen, train/test split. Vom Train/test split trainIDs to csv, und testIDs to csv."
   ]
  },
  {
   "cell_type": "code",
   "execution_count": 9,
   "metadata": {},
   "outputs": [],
   "source": [
    "lab = pd.read_csv(\"patients_no_text_sepsis_labels.csv\")\n",
    "text = pd.read_csv(\"noteevents_preprocessed_text_granular_label.csv\")"
   ]
  },
  {
   "cell_type": "code",
   "execution_count": 4,
   "metadata": {},
   "outputs": [
    {
     "name": "stdout",
     "output_type": "stream",
     "text": [
      "Your selected dataframe has 57 columns.\n",
      "There are 3 columns that have missing values.\n"
     ]
    },
    {
     "data": {
      "text/html": [
       "<div>\n",
       "<style scoped>\n",
       "    .dataframe tbody tr th:only-of-type {\n",
       "        vertical-align: middle;\n",
       "    }\n",
       "\n",
       "    .dataframe tbody tr th {\n",
       "        vertical-align: top;\n",
       "    }\n",
       "\n",
       "    .dataframe thead th {\n",
       "        text-align: right;\n",
       "    }\n",
       "</style>\n",
       "<table border=\"1\" class=\"dataframe\">\n",
       "  <thead>\n",
       "    <tr style=\"text-align: right;\">\n",
       "      <th></th>\n",
       "      <th>Missing Values</th>\n",
       "      <th>% of Total Values</th>\n",
       "    </tr>\n",
       "  </thead>\n",
       "  <tbody>\n",
       "    <tr>\n",
       "      <th>o:output_4hourly</th>\n",
       "      <td>1102706</td>\n",
       "      <td>55.4</td>\n",
       "    </tr>\n",
       "    <tr>\n",
       "      <th>o:output_total</th>\n",
       "      <td>1102706</td>\n",
       "      <td>55.4</td>\n",
       "    </tr>\n",
       "    <tr>\n",
       "      <th>o:PaO2_FiO2</th>\n",
       "      <td>889233</td>\n",
       "      <td>44.6</td>\n",
       "    </tr>\n",
       "  </tbody>\n",
       "</table>\n",
       "</div>"
      ],
      "text/plain": [
       "                  Missing Values  % of Total Values\n",
       "o:output_4hourly         1102706               55.4\n",
       "o:output_total           1102706               55.4\n",
       "o:PaO2_FiO2               889233               44.6"
      ]
     },
     "execution_count": 4,
     "metadata": {},
     "output_type": "execute_result"
    }
   ],
   "source": [
    "missing_values_table(lab)"
   ]
  },
  {
   "cell_type": "code",
   "execution_count": 11,
   "metadata": {},
   "outputs": [
    {
     "name": "stdout",
     "output_type": "stream",
     "text": [
      "Your selected dataframe has 16 columns.\n",
      "There are 4 columns that have missing values.\n"
     ]
    },
    {
     "data": {
      "text/html": [
       "<div>\n",
       "<style scoped>\n",
       "    .dataframe tbody tr th:only-of-type {\n",
       "        vertical-align: middle;\n",
       "    }\n",
       "\n",
       "    .dataframe tbody tr th {\n",
       "        vertical-align: top;\n",
       "    }\n",
       "\n",
       "    .dataframe thead th {\n",
       "        text-align: right;\n",
       "    }\n",
       "</style>\n",
       "<table border=\"1\" class=\"dataframe\">\n",
       "  <thead>\n",
       "    <tr style=\"text-align: right;\">\n",
       "      <th></th>\n",
       "      <th>Missing Values</th>\n",
       "      <th>% of Total Values</th>\n",
       "    </tr>\n",
       "  </thead>\n",
       "  <tbody>\n",
       "    <tr>\n",
       "      <th>iserror</th>\n",
       "      <td>1310691</td>\n",
       "      <td>99.9</td>\n",
       "    </tr>\n",
       "    <tr>\n",
       "      <th>storetime</th>\n",
       "      <td>583242</td>\n",
       "      <td>44.5</td>\n",
       "    </tr>\n",
       "    <tr>\n",
       "      <th>charttime</th>\n",
       "      <td>220938</td>\n",
       "      <td>16.8</td>\n",
       "    </tr>\n",
       "    <tr>\n",
       "      <th>hadm_id</th>\n",
       "      <td>94162</td>\n",
       "      <td>7.2</td>\n",
       "    </tr>\n",
       "  </tbody>\n",
       "</table>\n",
       "</div>"
      ],
      "text/plain": [
       "           Missing Values  % of Total Values\n",
       "iserror           1310691               99.9\n",
       "storetime          583242               44.5\n",
       "charttime          220938               16.8\n",
       "hadm_id             94162                7.2"
      ]
     },
     "execution_count": 11,
     "metadata": {},
     "output_type": "execute_result"
    }
   ],
   "source": [
    "missing_values_table(text)"
   ]
  },
  {
   "cell_type": "code",
   "execution_count": 10,
   "metadata": {},
   "outputs": [],
   "source": [
    "text.dropna(subset=['clean_text'], inplace=True)"
   ]
  },
  {
   "cell_type": "code",
   "execution_count": 12,
   "metadata": {},
   "outputs": [
    {
     "data": {
      "text/plain": [
       "Index(['Unnamed: 0.1', 'Unnamed: 0', 'a:action', 'm:charttime', 'm:icustayid',\n",
       "       'm:presumed_onset', 'o:Arterial_BE', 'o:Arterial_lactate',\n",
       "       'o:Arterial_pH', 'o:BUN', 'o:Calcium', 'o:Chloride', 'o:Creatinine',\n",
       "       'o:DiaBP', 'o:FiO2_1', 'o:GCS', 'o:Glucose', 'o:HCO3', 'o:HR', 'o:Hb',\n",
       "       'o:INR', 'o:Magnesium', 'o:MeanBP', 'o:PT', 'o:PTT', 'o:PaO2_FiO2',\n",
       "       'o:Platelets_count', 'o:Potassium', 'o:RR', 'o:SGOT', 'o:SGPT',\n",
       "       'o:SIRS', 'o:SOFA', 'o:Shock_Index', 'o:Sodium', 'o:SpO2', 'o:SysBP',\n",
       "       'o:Temp_C', 'o:Total_bili', 'o:WBC_count', 'o:Weight_kg', 'o:age',\n",
       "       'o:cumulated_balance', 'o:gender', 'o:input_4hourly', 'o:input_total',\n",
       "       'o:max_dose_vaso', 'o:mechvent', 'o:output_4hourly', 'o:output_total',\n",
       "       'o:paCO2', 'o:paO2', 'o:re_admission', 'r:reward', 'step', 'traj',\n",
       "       'sepsis_label'],\n",
       "      dtype='object')"
      ]
     },
     "execution_count": 12,
     "metadata": {},
     "output_type": "execute_result"
    }
   ],
   "source": [
    "lab.columns"
   ]
  },
  {
   "cell_type": "code",
   "execution_count": 13,
   "metadata": {},
   "outputs": [
    {
     "data": {
      "text/plain": [
       "Index(['Unnamed: 0.1', 'Unnamed: 0', 'subject_id', 'hadm_id', 'category',\n",
       "       'description', 'iserror', 'text', 'charttime', 'chartdate', 'storetime',\n",
       "       'm:icustayid', 'sepsis_label', 'm:presumed_onset', 'clean_text',\n",
       "       'granular_label'],\n",
       "      dtype='object')"
      ]
     },
     "execution_count": 13,
     "metadata": {},
     "output_type": "execute_result"
    }
   ],
   "source": [
    "text.columns"
   ]
  },
  {
   "cell_type": "markdown",
   "metadata": {},
   "source": [
    "create stepwise label for lab data. If charttime < presumed onset == 0, else 1 (for patients that are flagged as septic)."
   ]
  },
  {
   "cell_type": "code",
   "execution_count": 14,
   "metadata": {},
   "outputs": [],
   "source": [
    "lab[\"granular_label\"] = np.where(((lab[\"m:charttime\"] >= lab[\"m:presumed_onset\"]) & (lab[\"m:presumed_onset\"] > 0.0)), 1, 0)"
   ]
  },
  {
   "cell_type": "code",
   "execution_count": 31,
   "metadata": {},
   "outputs": [
    {
     "data": {
      "text/plain": [
       "41774"
      ]
     },
     "execution_count": 31,
     "metadata": {},
     "output_type": "execute_result"
    }
   ],
   "source": [
    "lab_id = np.unique(lab[\"m:icustayid\"])\n",
    "text_id = np.unique(text[\"m:icustayid\"])\n",
    "full_IDs = list(set(lab_id) & set(text_id))\n",
    "len(full_IDs)"
   ]
  },
  {
   "cell_type": "code",
   "execution_count": 32,
   "metadata": {},
   "outputs": [],
   "source": [
    "lab = lab.loc[lab[\"m:icustayid\"].isin(full_IDs)]\n",
    "text = text.loc[text[\"m:icustayid\"].isin(full_IDs)]"
   ]
  },
  {
   "cell_type": "markdown",
   "metadata": {},
   "source": [
    "select all positive patients, then set flag if still negative after 4 hours."
   ]
  },
  {
   "cell_type": "code",
   "execution_count": 58,
   "metadata": {},
   "outputs": [
    {
     "name": "stderr",
     "output_type": "stream",
     "text": [
      "/var/folders/rm/v29286yx225c2ktvpkpwfr5r0000gq/T/ipykernel_9441/205272084.py:3: SettingWithCopyWarning: \n",
      "A value is trying to be set on a copy of a slice from a DataFrame.\n",
      "Try using .loc[row_indexer,col_indexer] = value instead\n",
      "\n",
      "See the caveats in the documentation: https://pandas.pydata.org/pandas-docs/stable/user_guide/indexing.html#returning-a-view-versus-a-copy\n",
      "  lab_pos[\"0_4hrs\"] = np.where(((lab_pos[\"step\"] <= 4) & (lab_pos[\"granular_label\"] == 0)), 1, 0)\n"
     ]
    }
   ],
   "source": [
    "lab_neg = lab.loc[lab[\"sepsis_label\"]==0]\n",
    "lab_pos = lab.loc[lab[\"sepsis_label\"]==1]\n",
    "lab_pos[\"0_4hrs\"] = np.where(((lab_pos[\"step\"] <= 4) & (lab_pos[\"granular_label\"] == 0)), 1, 0)\n"
   ]
  },
  {
   "cell_type": "markdown",
   "metadata": {},
   "source": [
    "select positive patients which are negative after 4 hours"
   ]
  },
  {
   "cell_type": "code",
   "execution_count": 40,
   "metadata": {},
   "outputs": [],
   "source": [
    "lab_pos_0_4hrs_Ids = np.unique(lab_pos[\"m:icustayid\"].loc[lab_pos[\"0_4hrs\"]==1])\n",
    "lab_pos_0_4hrs = lab_pos.loc[lab_pos[\"m:icustayid\"].isin(lab_pos_0_4hrs_Ids)]"
   ]
  },
  {
   "cell_type": "markdown",
   "metadata": {},
   "source": [
    "for those patients, set flag if patients get positive within next 12 hours"
   ]
  },
  {
   "cell_type": "code",
   "execution_count": 41,
   "metadata": {},
   "outputs": [
    {
     "name": "stderr",
     "output_type": "stream",
     "text": [
      "/var/folders/rm/v29286yx225c2ktvpkpwfr5r0000gq/T/ipykernel_9441/395993633.py:1: SettingWithCopyWarning: \n",
      "A value is trying to be set on a copy of a slice from a DataFrame.\n",
      "Try using .loc[row_indexer,col_indexer] = value instead\n",
      "\n",
      "See the caveats in the documentation: https://pandas.pydata.org/pandas-docs/stable/user_guide/indexing.html#returning-a-view-versus-a-copy\n",
      "  lab_pos_0_4hrs[\"1_16hrs\"] = np.where(((lab_pos_0_4hrs[\"step\"] <= 16) & (lab_pos_0_4hrs[\"granular_label\"] == 1)), 1, 0)\n"
     ]
    }
   ],
   "source": [
    "lab_pos_0_4hrs[\"1_16hrs\"] = np.where(((lab_pos_0_4hrs[\"step\"] <= 16) & (lab_pos_0_4hrs[\"granular_label\"] == 1)), 1, 0)\n",
    "lab_pos_04_116_Ids = np.unique(lab_pos_0_4hrs[\"m:icustayid\"].loc[lab_pos_0_4hrs[\"1_16hrs\"]==1])"
   ]
  },
  {
   "cell_type": "code",
   "execution_count": 49,
   "metadata": {},
   "outputs": [
    {
     "name": "stdout",
     "output_type": "stream",
     "text": [
      "7369 patients that are negative after 4 hours but develop sepsis within the next 12 hours\n"
     ]
    }
   ],
   "source": [
    "print(\"{} patients that are negative after 4 hours but develop sepsis within the next 12 hours\".format(len(lab_pos_04_116_Ids)))"
   ]
  },
  {
   "cell_type": "markdown",
   "metadata": {},
   "source": [
    "select those patients from lab_pos, combine with all negative patients and do train/test split."
   ]
  },
  {
   "cell_type": "code",
   "execution_count": 64,
   "metadata": {},
   "outputs": [],
   "source": [
    "lab_neg_IDs = np.unique(lab_neg[\"m:icustayid\"])\n",
    "IDs_negative_sep_develop = list(lab_pos_04_116_Ids) + list(lab_neg_IDs)\n",
    "lab_full_of_interest = lab.loc[lab[\"m:icustayid\"].isin(IDs_negative_sep_develop)]"
   ]
  },
  {
   "cell_type": "code",
   "execution_count": 65,
   "metadata": {},
   "outputs": [
    {
     "data": {
      "text/plain": [
       "31170"
      ]
     },
     "execution_count": 65,
     "metadata": {},
     "output_type": "execute_result"
    }
   ],
   "source": [
    "len(IDs_negative_sep_develop)"
   ]
  },
  {
   "cell_type": "code",
   "execution_count": null,
   "metadata": {},
   "outputs": [
    {
     "name": "stderr",
     "output_type": "stream",
     "text": [
      "/var/folders/rm/v29286yx225c2ktvpkpwfr5r0000gq/T/ipykernel_9441/1498226907.py:1: SettingWithCopyWarning: \n",
      "A value is trying to be set on a copy of a slice from a DataFrame.\n",
      "Try using .loc[row_indexer,col_indexer] = value instead\n",
      "\n",
      "See the caveats in the documentation: https://pandas.pydata.org/pandas-docs/stable/user_guide/indexing.html#returning-a-view-versus-a-copy\n",
      "  lab_full_of_interest[\"min_len_16\"] = np.where(lab_full_of_interest[\"step\"] >= 16, 1, 0)\n"
     ]
    }
   ],
   "source": [
    "lab_full_of_interest[\"min_len_16\"] = np.where(lab_full_of_interest[\"step\"] >= 16, 1, 0)\n",
    "min_len_16_IDs = np.unique(lab_full_of_interest[\"m:icustayid\"].loc[lab_full_of_interest[\"min_len_16\"]==1])"
   ]
  },
  {
   "cell_type": "code",
   "execution_count": null,
   "metadata": {},
   "outputs": [],
   "source": [
    "lab_full_min_16 = lab_full_of_interest.loc[lab_full_of_interest[\"m:icustayid\"].isin(min_len_16_IDs)]"
   ]
  },
  {
   "cell_type": "markdown",
   "metadata": {},
   "source": [
    "check that each patient has atleast 16 hours of data"
   ]
  },
  {
   "cell_type": "code",
   "execution_count": 73,
   "metadata": {},
   "outputs": [
    {
     "data": {
      "text/plain": [
       "Counter({0: 30502,\n",
       "         1: 30502,\n",
       "         2: 30502,\n",
       "         3: 30502,\n",
       "         4: 30502,\n",
       "         5: 30502,\n",
       "         6: 30502,\n",
       "         7: 30502,\n",
       "         8: 30502,\n",
       "         9: 30502,\n",
       "         10: 30502,\n",
       "         11: 30502,\n",
       "         12: 30502,\n",
       "         13: 30502,\n",
       "         14: 30502,\n",
       "         15: 30502,\n",
       "         16: 30502,\n",
       "         17: 30185,\n",
       "         18: 29819,\n",
       "         19: 29399,\n",
       "         20: 28902,\n",
       "         21: 28346,\n",
       "         22: 27766,\n",
       "         23: 27185,\n",
       "         24: 26493,\n",
       "         25: 25756,\n",
       "         26: 25002,\n",
       "         27: 24152,\n",
       "         28: 23446,\n",
       "         29: 22652,\n",
       "         30: 21999,\n",
       "         31: 21386,\n",
       "         32: 20807,\n",
       "         33: 20261,\n",
       "         34: 19765,\n",
       "         35: 19295,\n",
       "         36: 18858,\n",
       "         37: 18445,\n",
       "         38: 18061,\n",
       "         39: 17680,\n",
       "         40: 17333,\n",
       "         41: 16924,\n",
       "         42: 16504,\n",
       "         43: 16057,\n",
       "         44: 15615,\n",
       "         45: 15176,\n",
       "         46: 14675,\n",
       "         47: 14187,\n",
       "         48: 13715,\n",
       "         49: 13238,\n",
       "         50: 12727,\n",
       "         51: 12237,\n",
       "         52: 11728,\n",
       "         53: 11236,\n",
       "         54: 10697,\n",
       "         55: 10139,\n",
       "         56: 9593,\n",
       "         57: 9064,\n",
       "         58: 8534,\n",
       "         59: 8070,\n",
       "         60: 7646,\n",
       "         61: 7263,\n",
       "         62: 6869,\n",
       "         63: 6499,\n",
       "         64: 6154,\n",
       "         65: 5791,\n",
       "         66: 5436,\n",
       "         67: 5110,\n",
       "         68: 4763,\n",
       "         69: 4452,\n",
       "         70: 4161,\n",
       "         71: 3812,\n",
       "         72: 3449,\n",
       "         73: 3093,\n",
       "         74: 2701,\n",
       "         75: 2239,\n",
       "         76: 1732,\n",
       "         77: 1190,\n",
       "         78: 570})"
      ]
     },
     "execution_count": 73,
     "metadata": {},
     "output_type": "execute_result"
    }
   ],
   "source": [
    "Counter(lab_full_min_16[\"step\"])"
   ]
  },
  {
   "cell_type": "code",
   "execution_count": 75,
   "metadata": {},
   "outputs": [
    {
     "name": "stderr",
     "output_type": "stream",
     "text": [
      "/var/folders/rm/v29286yx225c2ktvpkpwfr5r0000gq/T/ipykernel_9441/1997000140.py:1: SettingWithCopyWarning: \n",
      "A value is trying to be set on a copy of a slice from a DataFrame\n",
      "\n",
      "See the caveats in the documentation: https://pandas.pydata.org/pandas-docs/stable/user_guide/indexing.html#returning-a-view-versus-a-copy\n",
      "  lab_full_min_16.drop(['min_len_16'], axis=1, inplace=True)\n"
     ]
    }
   ],
   "source": [
    "lab_full_min_16.drop(['min_len_16'], axis=1, inplace=True)"
   ]
  },
  {
   "cell_type": "code",
   "execution_count": 76,
   "metadata": {},
   "outputs": [
    {
     "data": {
      "text/plain": [
       "Index(['Unnamed: 0.1', 'Unnamed: 0', 'a:action', 'm:charttime', 'm:icustayid',\n",
       "       'm:presumed_onset', 'o:Arterial_BE', 'o:Arterial_lactate',\n",
       "       'o:Arterial_pH', 'o:BUN', 'o:Calcium', 'o:Chloride', 'o:Creatinine',\n",
       "       'o:DiaBP', 'o:FiO2_1', 'o:GCS', 'o:Glucose', 'o:HCO3', 'o:HR', 'o:Hb',\n",
       "       'o:INR', 'o:Magnesium', 'o:MeanBP', 'o:PT', 'o:PTT', 'o:PaO2_FiO2',\n",
       "       'o:Platelets_count', 'o:Potassium', 'o:RR', 'o:SGOT', 'o:SGPT',\n",
       "       'o:SIRS', 'o:SOFA', 'o:Shock_Index', 'o:Sodium', 'o:SpO2', 'o:SysBP',\n",
       "       'o:Temp_C', 'o:Total_bili', 'o:WBC_count', 'o:Weight_kg', 'o:age',\n",
       "       'o:cumulated_balance', 'o:gender', 'o:input_4hourly', 'o:input_total',\n",
       "       'o:max_dose_vaso', 'o:mechvent', 'o:output_4hourly', 'o:output_total',\n",
       "       'o:paCO2', 'o:paO2', 'o:re_admission', 'r:reward', 'step', 'traj',\n",
       "       'sepsis_label', 'granular_label'],\n",
       "      dtype='object')"
      ]
     },
     "execution_count": 76,
     "metadata": {},
     "output_type": "execute_result"
    }
   ],
   "source": [
    "lab_full_min_16.columns"
   ]
  },
  {
   "cell_type": "markdown",
   "metadata": {},
   "source": [
    "split data\n",
    "\n",
    "GroupKFold is a variation of k-fold which ensures that the same group is not represented in both testing and training sets. For example if the data is obtained from different subjects with several samples per-subject and if the model is flexible enough to learn from highly person specific features it could fail to generalize to new subjects. GroupKFold makes it possible to detect this kind of overfitting situations.\n",
    "\n",
    "patients are groups and i make sure that one patient is not in both train and test."
   ]
  },
  {
   "cell_type": "code",
   "execution_count": 170,
   "metadata": {},
   "outputs": [],
   "source": [
    "gkf = GroupKFold(n_splits=4)\n",
    "groups = lab_full_min_16[\"m:icustayid\"].to_numpy()\n",
    "y = lab_full_min_16[\"sepsis_label\"].to_numpy()\n",
    "X = lab_full_min_16.drop(['sepsis_label', 'm:icustayid', 'granular_label'], axis=1).to_numpy()\n"
   ]
  },
  {
   "cell_type": "code",
   "execution_count": 171,
   "metadata": {},
   "outputs": [
    {
     "name": "stdout",
     "output_type": "stream",
     "text": [
      "Fold 0:\n",
      "  Train: index=[      0       1       2 ... 1404570 1404571 1404572], group=[200011. 200011. 200011. ... 299999. 299999. 299999.]\n",
      "  Test:  index=[    468     469     470 ... 1404327 1404328 1404329], group=[200135. 200135. 200135. ... 299972. 299972. 299972.]\n",
      "Fold 1:\n",
      "  Train: index=[      0       1       2 ... 1404570 1404571 1404572], group=[200011. 200011. 200011. ... 299999. 299999. 299999.]\n",
      "  Test:  index=[     96      97      98 ... 1404451 1404452 1404453], group=[200066. 200066. 200066. ... 299979. 299979. 299979.]\n",
      "Fold 2:\n",
      "  Train: index=[      0       1       2 ... 1404570 1404571 1404572], group=[200011. 200011. 200011. ... 299999. 299999. 299999.]\n",
      "  Test:  index=[    197     198     199 ... 1404477 1404478 1404479], group=[200068. 200068. 200068. ... 299987. 299987. 299987.]\n",
      "Fold 3:\n",
      "  Train: index=[     96      97      98 ... 1404477 1404478 1404479], group=[200066. 200066. 200066. ... 299987. 299987. 299987.]\n",
      "  Test:  index=[      0       1       2 ... 1404570 1404571 1404572], group=[200011. 200011. 200011. ... 299999. 299999. 299999.]\n"
     ]
    }
   ],
   "source": [
    "for i, (train_index, test_index) in enumerate(gkf.split(X, groups=groups)):\n",
    "    print(f\"Fold {i}:\")\n",
    "    print(f\"  Train: index={train_index}, group={groups[train_index]}\")\n",
    "    print(f\"  Test:  index={test_index}, group={groups[test_index]}\")\n",
    "    X_train = lab_full_min_16.iloc[train_index]\n",
    "    y_train = y[train_index]\n",
    "    X_test_ = lab_full_min_16.iloc[test_index]\n",
    "    y_test_ = y[test_index]\n"
   ]
  },
  {
   "cell_type": "code",
   "execution_count": 172,
   "metadata": {},
   "outputs": [
    {
     "name": "stdout",
     "output_type": "stream",
     "text": [
      "0.33334314263419595 ratio of test/train data\n",
      "Class balance in train data rows: Counter({0: 817024, 1: 236398})\n",
      "Class balance in test data rows: Counter({0: 272461, 1: 78690})\n"
     ]
    }
   ],
   "source": [
    "\n",
    "print(len(X_test_) / len(X_train), \"ratio of test/train data\")\n",
    "print(\"Class balance in train data rows: {}\".format(Counter(y_train)))\n",
    "print(\"Class balance in test data rows: {}\".format(Counter(y_test_)))"
   ]
  },
  {
   "cell_type": "code",
   "execution_count": 173,
   "metadata": {},
   "outputs": [
    {
     "name": "stdout",
     "output_type": "stream",
     "text": [
      "22876 7626\n"
     ]
    },
    {
     "data": {
      "text/plain": [
       "array([], dtype=float64)"
      ]
     },
     "execution_count": 173,
     "metadata": {},
     "output_type": "execute_result"
    }
   ],
   "source": [
    "train_IDs = np.unique(X_train[\"m:icustayid\"])\n",
    "test_IDs = np.unique(X_test_[\"m:icustayid\"])\n",
    "print(len(train_IDs), len(test_IDs))\n",
    "np.intersect1d(train_IDs,test_IDs)"
   ]
  },
  {
   "cell_type": "markdown",
   "metadata": {},
   "source": [
    "split the test data again to get a validation set"
   ]
  },
  {
   "cell_type": "code",
   "execution_count": 175,
   "metadata": {},
   "outputs": [],
   "source": [
    "gkf_val = GroupKFold(n_splits=3)\n",
    "groups_ = X_test_[\"m:icustayid\"].to_numpy()\n",
    "y_ = X_test_[\"sepsis_label\"].to_numpy()\n",
    "X_ = X_test_.drop(['sepsis_label', 'm:icustayid', 'granular_label'], axis=1).to_numpy()"
   ]
  },
  {
   "cell_type": "code",
   "execution_count": 176,
   "metadata": {},
   "outputs": [
    {
     "name": "stdout",
     "output_type": "stream",
     "text": [
      "Fold 0:\n",
      "  Train: index=[    42     43     44 ... 351123 351124 351125], group=[200063. 200063. 200063. ... 203330. 203330. 203330.]\n",
      "  Test:  index=[     0      1      2 ... 351148 351149 351150], group=[200011. 200011. 200011. ... 203330. 203330. 203330.]\n",
      "Fold 1:\n",
      "  Train: index=[     0      1      2 ... 351148 351149 351150], group=[200011. 200011. 200011. ... 203330. 203330. 203330.]\n",
      "  Test:  index=[    96     97     98 ... 350511 350512 350513], group=[200066. 200066. 200066. ... 203277. 203277. 203277.]\n",
      "Fold 2:\n",
      "  Train: index=[     0      1      2 ... 351148 351149 351150], group=[200011. 200011. 200011. ... 203330. 203330. 203330.]\n",
      "  Test:  index=[    42     43     44 ... 351123 351124 351125], group=[200063. 200063. 200063. ... 203330. 203330. 203330.]\n"
     ]
    }
   ],
   "source": [
    "for i, (train_index, test_index) in enumerate(gkf_val.split(X_, groups=groups_)):\n",
    "    print(f\"Fold {i}:\")\n",
    "    print(f\"  Train: index={train_index}, group={groups[train_index]}\")\n",
    "    print(f\"  Test:  index={test_index}, group={groups[test_index]}\")\n",
    "    X_test = X_test_.iloc[train_index]\n",
    "    y_test = y_[train_index]\n",
    "    X_val = X_test_.iloc[test_index]\n",
    "    y_val = y_[test_index]"
   ]
  },
  {
   "cell_type": "code",
   "execution_count": 177,
   "metadata": {},
   "outputs": [
    {
     "name": "stdout",
     "output_type": "stream",
     "text": [
      "0.4999978641697387 ratio of val/test data\n",
      "Class balance in test data rows: Counter({0: 181939, 1: 52162})\n",
      "Class balance in val data rows: Counter({0: 90522, 1: 26528})\n"
     ]
    }
   ],
   "source": [
    "\n",
    "print(len(X_val) / len(X_test), \"ratio of val/test data\")\n",
    "print(\"Class balance in test data rows: {}\".format(Counter(y_test)))\n",
    "print(\"Class balance in val data rows: {}\".format(Counter(y_val)))"
   ]
  },
  {
   "cell_type": "code",
   "execution_count": 178,
   "metadata": {},
   "outputs": [
    {
     "name": "stdout",
     "output_type": "stream",
     "text": [
      "[]\n",
      "[]\n",
      "[]\n"
     ]
    }
   ],
   "source": [
    "test_IDs = np.unique(X_test[\"m:icustayid\"])\n",
    "val_IDs = np.unique(X_val[\"m:icustayid\"])\n",
    "print(np.intersect1d(train_IDs,test_IDs))\n",
    "print(np.intersect1d(train_IDs,val_IDs))\n",
    "print(np.intersect1d(test_IDs,val_IDs))"
   ]
  },
  {
   "cell_type": "code",
   "execution_count": 181,
   "metadata": {},
   "outputs": [
    {
     "data": {
      "text/plain": [
       "Index(['Unnamed: 0.1', 'Unnamed: 0', 'a:action', 'm:charttime', 'm:icustayid',\n",
       "       'm:presumed_onset', 'o:Arterial_BE', 'o:Arterial_lactate',\n",
       "       'o:Arterial_pH', 'o:BUN', 'o:Calcium', 'o:Chloride', 'o:Creatinine',\n",
       "       'o:DiaBP', 'o:FiO2_1', 'o:GCS', 'o:Glucose', 'o:HCO3', 'o:HR', 'o:Hb',\n",
       "       'o:INR', 'o:Magnesium', 'o:MeanBP', 'o:PT', 'o:PTT', 'o:PaO2_FiO2',\n",
       "       'o:Platelets_count', 'o:Potassium', 'o:RR', 'o:SGOT', 'o:SGPT',\n",
       "       'o:SIRS', 'o:SOFA', 'o:Shock_Index', 'o:Sodium', 'o:SpO2', 'o:SysBP',\n",
       "       'o:Temp_C', 'o:Total_bili', 'o:WBC_count', 'o:Weight_kg', 'o:age',\n",
       "       'o:cumulated_balance', 'o:gender', 'o:input_4hourly', 'o:input_total',\n",
       "       'o:max_dose_vaso', 'o:mechvent', 'o:output_4hourly', 'o:output_total',\n",
       "       'o:paCO2', 'o:paO2', 'o:re_admission', 'r:reward', 'step', 'traj',\n",
       "       'sepsis_label', 'granular_label'],\n",
       "      dtype='object')"
      ]
     },
     "execution_count": 181,
     "metadata": {},
     "output_type": "execute_result"
    }
   ],
   "source": [
    "X_val.columns"
   ]
  }
 ],
 "metadata": {
  "kernelspec": {
   "display_name": "microsoft_sepsis",
   "language": "python",
   "name": "python3"
  },
  "language_info": {
   "codemirror_mode": {
    "name": "ipython",
    "version": 3
   },
   "file_extension": ".py",
   "mimetype": "text/x-python",
   "name": "python",
   "nbconvert_exporter": "python",
   "pygments_lexer": "ipython3",
   "version": "3.9.18"
  }
 },
 "nbformat": 4,
 "nbformat_minor": 2
}
