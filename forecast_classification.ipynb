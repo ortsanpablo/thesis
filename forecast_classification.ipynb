{
 "cells": [
  {
   "cell_type": "code",
   "execution_count": 1,
   "metadata": {},
   "outputs": [],
   "source": [
    "import numpy as np\n",
    "import pandas as pd\n",
    "import csv\n",
    "import os\n",
    "#from SepsisCheck import sepsischeck_utilities_for_pkl as su\n",
    "from sklearn.metrics import precision_recall_fscore_support as score\n",
    "#from sklearn.metrics import average_precision_score as score\n",
    "from sklearn.metrics import classification_report as report\n",
    "from sklearn.metrics import roc_auc_score as auroc\n",
    "from sklearn.metrics import confusion_matrix"
   ]
  },
  {
   "cell_type": "code",
   "execution_count": 2,
   "metadata": {},
   "outputs": [],
   "source": [
    "lab = pd.read_csv(\"patients_no_text_sepsis_labels.csv\")\n",
    "forecast = pd.read_pickle(\"4OBS12forecasting_preds_test.pkl\")\n",
    "hours = pd.read_csv(\"lab_hours.csv\")\n",
    "lab[\"hour\"] = hours[\"hour\"]"
   ]
  },
  {
   "cell_type": "code",
   "execution_count": 4,
   "metadata": {},
   "outputs": [
    {
     "name": "stdout",
     "output_type": "stream",
     "text": [
      "[]\n",
      "[]\n",
      "[]\n"
     ]
    }
   ],
   "source": [
    "IDs = pd.read_csv(\"IDs.csv\")\n",
    "train_IDs = np.unique(IDs[\"train_ids\"][~np.isnan(IDs[\"train_ids\"])])\n",
    "test_IDs = np.unique(IDs[\"test_ids\"][~np.isnan(IDs[\"test_ids\"])])\n",
    "val_IDs = np.unique(IDs[\"val_ids\"][~np.isnan(IDs[\"val_ids\"])])\n",
    "print(np.intersect1d(train_IDs,test_IDs))\n",
    "print(np.intersect1d(train_IDs,val_IDs))\n",
    "print(np.intersect1d(test_IDs,val_IDs))"
   ]
  },
  {
   "cell_type": "code",
   "execution_count": 5,
   "metadata": {},
   "outputs": [
    {
     "name": "stderr",
     "output_type": "stream",
     "text": [
      "/var/folders/rm/v29286yx225c2ktvpkpwfr5r0000gq/T/ipykernel_55917/106022131.py:15: SettingWithCopyWarning: \n",
      "A value is trying to be set on a copy of a slice from a DataFrame\n",
      "\n",
      "See the caveats in the documentation: https://pandas.pydata.org/pandas-docs/stable/user_guide/indexing.html#returning-a-view-versus-a-copy\n",
      "  X_train.drop(columns=[\"granular_label\", \"m:icustayid\"], inplace=True)\n",
      "/var/folders/rm/v29286yx225c2ktvpkpwfr5r0000gq/T/ipykernel_55917/106022131.py:16: SettingWithCopyWarning: \n",
      "A value is trying to be set on a copy of a slice from a DataFrame\n",
      "\n",
      "See the caveats in the documentation: https://pandas.pydata.org/pandas-docs/stable/user_guide/indexing.html#returning-a-view-versus-a-copy\n",
      "  X_test.drop(columns=[\"granular_label\", \"m:icustayid\"], inplace=True)\n",
      "/var/folders/rm/v29286yx225c2ktvpkpwfr5r0000gq/T/ipykernel_55917/106022131.py:17: SettingWithCopyWarning: \n",
      "A value is trying to be set on a copy of a slice from a DataFrame\n",
      "\n",
      "See the caveats in the documentation: https://pandas.pydata.org/pandas-docs/stable/user_guide/indexing.html#returning-a-view-versus-a-copy\n",
      "  X_val.drop(columns=[\"granular_label\", \"m:icustayid\"], inplace=True)\n"
     ]
    }
   ],
   "source": [
    "temp_ = lab.copy()\n",
    "temp_[\"granular_label\"] = np.where(((temp_[\"m:charttime\"] >= temp_[\"m:presumed_onset\"]) & (temp_[\"m:presumed_onset\"] > 0.0)), 1, 0)\n",
    "rows = temp_.drop(columns=[\"sepsis_label\", \"m:charttime\", \"traj\", \"r:reward\", \"a:action\", \"o:output_4hourly\", \"o:output_total\", \"o:PaO2_FiO2\", \"Unnamed: 0\", \"Unnamed: 0.1\", \"m:presumed_onset\", \"o:SOFA\", \"o:SIRS\", \"o:input_4hourly\", \"o:input_total\", \"o:GCS\", \"o:PTT\", \"o:DiaBP\", \"o:MeanBP\", \"o:SpO2\", \"o:cumulated_balance\", \"o:Creatinine\", \"o:Platelets_count\", \"o:re_admission\", \"o:mechvent\", \"o:max_dose_vaso\"])\n",
    "r = rows.copy()\n",
    "r = r.loc[r[\"step\"]<=4]\n",
    "r.drop(columns=\"step\", inplace=True)\n",
    "X_train = r.loc[r[\"m:icustayid\"].isin(train_IDs)]\n",
    "y_train = X_train[\"granular_label\"]\n",
    "X_test = r.loc[r[\"m:icustayid\"].isin(test_IDs)]\n",
    "y_test = X_test[\"granular_label\"]\n",
    "X_val = r.loc[r[\"m:icustayid\"].isin(val_IDs)]\n",
    "y_val = X_val[\"granular_label\"]\n",
    "\n",
    "\n",
    "X_train.drop(columns=[\"granular_label\", \"m:icustayid\"], inplace=True)\n",
    "X_test.drop(columns=[\"granular_label\", \"m:icustayid\"], inplace=True)\n",
    "X_val.drop(columns=[\"granular_label\", \"m:icustayid\"], inplace=True)"
   ]
  },
  {
   "cell_type": "code",
   "execution_count": 6,
   "metadata": {},
   "outputs": [],
   "source": [
    "strats_df = forecast[0]\n",
    "var_map_hour = list(forecast[1].keys())\n",
    "var_map_hour.append(\"hour\")\n",
    "var_map = list(forecast[1].keys())"
   ]
  }
 ],
 "metadata": {
  "kernelspec": {
   "display_name": "microsoft_sepsis",
   "language": "python",
   "name": "python3"
  },
  "language_info": {
   "codemirror_mode": {
    "name": "ipython",
    "version": 3
   },
   "file_extension": ".py",
   "mimetype": "text/x-python",
   "name": "python",
   "nbconvert_exporter": "python",
   "pygments_lexer": "ipython3",
   "version": "3.9.18"
  }
 },
 "nbformat": 4,
 "nbformat_minor": 2
}
